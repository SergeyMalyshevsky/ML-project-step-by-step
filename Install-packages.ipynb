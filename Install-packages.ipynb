{
 "cells": [
  {
   "cell_type": "markdown",
   "metadata": {},
   "source": [
    "# Install packages"
   ]
  },
  {
   "cell_type": "code",
   "execution_count": 2,
   "metadata": {},
   "outputs": [
    {
     "name": "stdout",
     "output_type": "stream",
     "text": [
      "Python: 3.6.3 (v3.6.3:2c5fed8, Oct  3 2017, 18:11:49) [MSC v.1900 64 bit (AMD64)]\n"
     ]
    }
   ],
   "source": [
    "# Python version\n",
    "import sys\n",
    "print('Python: {}'.format(sys.version))"
   ]
  },
  {
   "cell_type": "code",
   "execution_count": 4,
   "metadata": {},
   "outputs": [
    {
     "name": "stdout",
     "output_type": "stream",
     "text": [
      "Collecting pip\n",
      "  Using cached https://files.pythonhosted.org/packages/46/dc/7fd5df840efb3e56c8b4f768793a237ec4ee59891959d6a215d63f727023/pip-19.0.1-py2.py3-none-any.whl\n",
      "Installing collected packages: pip\n",
      "  Found existing installation: pip 18.0\n",
      "    Uninstalling pip-18.0:\n",
      "      Successfully uninstalled pip-18.0\n",
      "Successfully installed pip-19.0.1\n"
     ]
    }
   ],
   "source": [
    "# upgrade pip\n",
    "import sys\n",
    "!{sys.executable} -m pip install --upgrade pip"
   ]
  },
  {
   "cell_type": "code",
   "execution_count": 5,
   "metadata": {},
   "outputs": [
    {
     "name": "stdout",
     "output_type": "stream",
     "text": [
      "Requirement already satisfied: scipy in c:\\python\\python36\\lib\\site-packages (1.2.0)\n",
      "Requirement already satisfied: numpy>=1.8.2 in c:\\python\\python36\\lib\\site-packages (from scipy) (1.13.3)\n"
     ]
    }
   ],
   "source": [
    "# install scipy\n",
    "!{sys.executable} -m pip install scipy"
   ]
  },
  {
   "cell_type": "code",
   "execution_count": 6,
   "metadata": {},
   "outputs": [
    {
     "name": "stdout",
     "output_type": "stream",
     "text": [
      "scipy: 1.2.0\n"
     ]
    }
   ],
   "source": [
    "# scipy\n",
    "import scipy\n",
    "print('scipy: {}'.format(scipy.__version__))"
   ]
  },
  {
   "cell_type": "code",
   "execution_count": 7,
   "metadata": {},
   "outputs": [
    {
     "name": "stdout",
     "output_type": "stream",
     "text": [
      "numpy: 1.13.3\n"
     ]
    }
   ],
   "source": [
    "# numpy\n",
    "import numpy\n",
    "print('numpy: {}'.format(numpy.__version__))"
   ]
  },
  {
   "cell_type": "code",
   "execution_count": 8,
   "metadata": {},
   "outputs": [
    {
     "name": "stdout",
     "output_type": "stream",
     "text": [
      "Collecting matplotlib\n",
      "  Using cached https://files.pythonhosted.org/packages/b1/56/569c83515c10146fd0aa09e086816b12e301d0811048e3354a6e9b77ba9a/matplotlib-3.0.2-cp36-cp36m-win_amd64.whl\n",
      "Requirement already satisfied: numpy>=1.10.0 in c:\\python\\python36\\lib\\site-packages (from matplotlib) (1.13.3)\n",
      "Collecting kiwisolver>=1.0.1 (from matplotlib)\n",
      "  Using cached https://files.pythonhosted.org/packages/44/72/16630c3392eba03788ad87949390516bbc488e8e118047a3b824631d21a6/kiwisolver-1.0.1-cp36-none-win_amd64.whl\n",
      "Requirement already satisfied: python-dateutil>=2.1 in c:\\python\\python36\\lib\\site-packages (from matplotlib) (2.6.1)\n",
      "Collecting cycler>=0.10 (from matplotlib)\n",
      "  Using cached https://files.pythonhosted.org/packages/f7/d2/e07d3ebb2bd7af696440ce7e754c59dd546ffe1bbe732c8ab68b9c834e61/cycler-0.10.0-py2.py3-none-any.whl\n",
      "Collecting pyparsing!=2.0.4,!=2.1.2,!=2.1.6,>=2.0.1 (from matplotlib)\n",
      "  Downloading https://files.pythonhosted.org/packages/de/0a/001be530836743d8be6c2d85069f46fecf84ac6c18c7f5fb8125ee11d854/pyparsing-2.3.1-py2.py3-none-any.whl (61kB)\n",
      "Requirement already satisfied: setuptools in c:\\python\\python36\\lib\\site-packages (from kiwisolver>=1.0.1->matplotlib) (28.8.0)\n",
      "Requirement already satisfied: six>=1.5 in c:\\python\\python36\\lib\\site-packages (from python-dateutil>=2.1->matplotlib) (1.11.0)\n",
      "Installing collected packages: kiwisolver, cycler, pyparsing, matplotlib\n",
      "Successfully installed cycler-0.10.0 kiwisolver-1.0.1 matplotlib-3.0.2 pyparsing-2.3.1\n"
     ]
    }
   ],
   "source": [
    "# install matplotlib\n",
    "!{sys.executable} -m pip install matplotlib"
   ]
  },
  {
   "cell_type": "code",
   "execution_count": 9,
   "metadata": {},
   "outputs": [
    {
     "name": "stdout",
     "output_type": "stream",
     "text": [
      "matplotlib: 3.0.2\n"
     ]
    }
   ],
   "source": [
    "# matplotlib\n",
    "import matplotlib\n",
    "print('matplotlib: {}'.format(matplotlib.__version__))"
   ]
  },
  {
   "cell_type": "code",
   "execution_count": 10,
   "metadata": {},
   "outputs": [
    {
     "name": "stdout",
     "output_type": "stream",
     "text": [
      "Requirement already satisfied: pandas in c:\\python\\python36\\lib\\site-packages (0.21.0)\n",
      "Requirement already satisfied: python-dateutil>=2 in c:\\python\\python36\\lib\\site-packages (from pandas) (2.6.1)\n",
      "Requirement already satisfied: numpy>=1.9.0 in c:\\python\\python36\\lib\\site-packages (from pandas) (1.13.3)\n",
      "Requirement already satisfied: pytz>=2011k in c:\\python\\python36\\lib\\site-packages (from pandas) (2017.3)\n",
      "Requirement already satisfied: six>=1.5 in c:\\python\\python36\\lib\\site-packages (from python-dateutil>=2->pandas) (1.11.0)\n"
     ]
    }
   ],
   "source": [
    "# install pandas\n",
    "!{sys.executable} -m pip install pandas"
   ]
  },
  {
   "cell_type": "code",
   "execution_count": 11,
   "metadata": {},
   "outputs": [
    {
     "name": "stdout",
     "output_type": "stream",
     "text": [
      "pandas: 0.21.0\n"
     ]
    }
   ],
   "source": [
    "# pandas\n",
    "import pandas\n",
    "print('pandas: {}'.format(pandas.__version__))"
   ]
  },
  {
   "cell_type": "code",
   "execution_count": 12,
   "metadata": {},
   "outputs": [
    {
     "name": "stdout",
     "output_type": "stream",
     "text": [
      "Requirement already satisfied: scikit-learn in c:\\python\\python36\\lib\\site-packages (0.19.1)\n"
     ]
    }
   ],
   "source": [
    "# install scikit-learn\n",
    "!{sys.executable} -m pip install scikit-learn"
   ]
  },
  {
   "cell_type": "code",
   "execution_count": 13,
   "metadata": {},
   "outputs": [
    {
     "name": "stdout",
     "output_type": "stream",
     "text": [
      "sklearn: 0.19.1\n"
     ]
    }
   ],
   "source": [
    "# scikit-learn\n",
    "import sklearn\n",
    "print('sklearn: {}'.format(sklearn.__version__))"
   ]
  },
  {
   "cell_type": "markdown",
   "metadata": {},
   "source": [
    "# Save packages"
   ]
  },
  {
   "cell_type": "code",
   "execution_count": 15,
   "metadata": {},
   "outputs": [],
   "source": [
    "# freeze dependencies\n",
    "import sys\n",
    "!{sys.executable} -m pip freeze > requirements.txt"
   ]
  },
  {
   "cell_type": "markdown",
   "metadata": {},
   "source": [
    "# Install packages from requirements.txt"
   ]
  },
  {
   "cell_type": "code",
   "execution_count": 17,
   "metadata": {},
   "outputs": [
    {
     "name": "stdout",
     "output_type": "stream",
     "text": [
      "Requirement already satisfied: altgraph==0.15 in c:\\python\\python36\\lib\\site-packages (from -r requirements.txt (line 1)) (0.15)\n",
      "Requirement already satisfied: asn1crypto==0.24.0 in c:\\python\\python36\\lib\\site-packages (from -r requirements.txt (line 2)) (0.24.0)\n",
      "Requirement already satisfied: attrs==18.1.0 in c:\\python\\python36\\lib\\site-packages (from -r requirements.txt (line 3)) (18.1.0)\n",
      "Requirement already satisfied: Automat==0.7.0 in c:\\python\\python36\\lib\\site-packages (from -r requirements.txt (line 4)) (0.7.0)\n",
      "Requirement already satisfied: backcall==0.1.0 in c:\\python\\python36\\lib\\site-packages (from -r requirements.txt (line 5)) (0.1.0)\n",
      "Requirement already satisfied: bcrypt==3.1.4 in c:\\python\\python36\\lib\\site-packages (from -r requirements.txt (line 6)) (3.1.4)\n",
      "Requirement already satisfied: bleach==2.1.4 in c:\\python\\python36\\lib\\site-packages (from -r requirements.txt (line 7)) (2.1.4)\n",
      "Requirement already satisfied: cffi==1.11.5 in c:\\python\\python36\\lib\\site-packages (from -r requirements.txt (line 8)) (1.11.5)\n",
      "Requirement already satisfied: colorama==0.3.9 in c:\\python\\python36\\lib\\site-packages (from -r requirements.txt (line 9)) (0.3.9)\n",
      "Requirement already satisfied: constantly==15.1.0 in c:\\python\\python36\\lib\\site-packages (from -r requirements.txt (line 10)) (15.1.0)\n",
      "Requirement already satisfied: cryptography==2.2.2 in c:\\python\\python36\\lib\\site-packages (from -r requirements.txt (line 11)) (2.2.2)\n",
      "Requirement already satisfied: cssselect==1.0.3 in c:\\python\\python36\\lib\\site-packages (from -r requirements.txt (line 12)) (1.0.3)\n",
      "Requirement already satisfied: cycler==0.10.0 in c:\\python\\python36\\lib\\site-packages (from -r requirements.txt (line 13)) (0.10.0)\n",
      "Requirement already satisfied: dbfpy==2.3.1 in c:\\python\\python36\\lib\\site-packages (from -r requirements.txt (line 14)) (2.3.1)\n",
      "Requirement already satisfied: decorator==4.3.0 in c:\\python\\python36\\lib\\site-packages (from -r requirements.txt (line 15)) (4.3.0)\n",
      "Requirement already satisfied: Django==2.0.4 in c:\\python\\python36\\lib\\site-packages (from -r requirements.txt (line 16)) (2.0.4)\n",
      "Requirement already satisfied: django-braces==1.12.0 in c:\\python\\python36\\lib\\site-packages (from -r requirements.txt (line 17)) (1.12.0)\n",
      "Requirement already satisfied: django-js-asset==1.0.0 in c:\\python\\python36\\lib\\site-packages (from -r requirements.txt (line 18)) (1.0.0)\n",
      "Requirement already satisfied: django-model-utils==3.1.1 in c:\\python\\python36\\lib\\site-packages (from -r requirements.txt (line 19)) (3.1.1)\n",
      "Requirement already satisfied: django-mptt==0.9.0 in c:\\python\\python36\\lib\\site-packages (from -r requirements.txt (line 20)) (0.9.0)\n",
      "Requirement already satisfied: django-private-chat==0.1.8 in c:\\python\\python36\\lib\\site-packages (from -r requirements.txt (line 21)) (0.1.8)\n",
      "Requirement already satisfied: entrypoints==0.2.3 in c:\\python\\python36\\lib\\site-packages (from -r requirements.txt (line 22)) (0.2.3)\n",
      "Requirement already satisfied: future==0.16.0 in c:\\python\\python36\\lib\\site-packages (from -r requirements.txt (line 23)) (0.16.0)\n",
      "Requirement already satisfied: html5lib==1.0.1 in c:\\python\\python36\\lib\\site-packages (from -r requirements.txt (line 24)) (1.0.1)\n",
      "Requirement already satisfied: hyperlink==18.0.0 in c:\\python\\python36\\lib\\site-packages (from -r requirements.txt (line 25)) (18.0.0)\n",
      "Requirement already satisfied: idna==2.6 in c:\\python\\python36\\lib\\site-packages (from -r requirements.txt (line 26)) (2.6)\n",
      "Requirement already satisfied: incremental==17.5.0 in c:\\python\\python36\\lib\\site-packages (from -r requirements.txt (line 27)) (17.5.0)\n",
      "Requirement already satisfied: ipykernel==4.9.0 in c:\\python\\python36\\lib\\site-packages (from -r requirements.txt (line 28)) (4.9.0)\n",
      "Requirement already satisfied: ipython==6.5.0 in c:\\python\\python36\\lib\\site-packages (from -r requirements.txt (line 29)) (6.5.0)\n",
      "Requirement already satisfied: ipython-genutils==0.2.0 in c:\\python\\python36\\lib\\site-packages (from -r requirements.txt (line 30)) (0.2.0)\n",
      "Requirement already satisfied: ipywidgets==7.4.1 in c:\\python\\python36\\lib\\site-packages (from -r requirements.txt (line 31)) (7.4.1)\n",
      "Requirement already satisfied: jedi==0.12.1 in c:\\python\\python36\\lib\\site-packages (from -r requirements.txt (line 32)) (0.12.1)\n",
      "Requirement already satisfied: Jinja2==2.10 in c:\\python\\python36\\lib\\site-packages (from -r requirements.txt (line 33)) (2.10)\n",
      "Requirement already satisfied: jsonschema==2.6.0 in c:\\python\\python36\\lib\\site-packages (from -r requirements.txt (line 34)) (2.6.0)\n",
      "Requirement already satisfied: jupyter==1.0.0 in c:\\python\\python36\\lib\\site-packages (from -r requirements.txt (line 35)) (1.0.0)\n",
      "Requirement already satisfied: jupyter-client==5.2.3 in c:\\python\\python36\\lib\\site-packages (from -r requirements.txt (line 36)) (5.2.3)\n",
      "Requirement already satisfied: jupyter-console==5.2.0 in c:\\python\\python36\\lib\\site-packages (from -r requirements.txt (line 37)) (5.2.0)\n",
      "Requirement already satisfied: jupyter-core==4.4.0 in c:\\python\\python36\\lib\\site-packages (from -r requirements.txt (line 38)) (4.4.0)\n",
      "Requirement already satisfied: kiwisolver==1.0.1 in c:\\python\\python36\\lib\\site-packages (from -r requirements.txt (line 39)) (1.0.1)\n",
      "Requirement already satisfied: lxml==4.2.3 in c:\\python\\python36\\lib\\site-packages (from -r requirements.txt (line 40)) (4.2.3)\n",
      "Requirement already satisfied: macholib==1.9 in c:\\python\\python36\\lib\\site-packages (from -r requirements.txt (line 41)) (1.9)\n",
      "Requirement already satisfied: MarkupSafe==1.0 in c:\\python\\python36\\lib\\site-packages (from -r requirements.txt (line 42)) (1.0)\n",
      "Requirement already satisfied: matplotlib==3.0.2 in c:\\python\\python36\\lib\\site-packages (from -r requirements.txt (line 43)) (3.0.2)\n",
      "Requirement already satisfied: mistune==0.8.3 in c:\\python\\python36\\lib\\site-packages (from -r requirements.txt (line 44)) (0.8.3)\n",
      "Requirement already satisfied: nbconvert==5.3.1 in c:\\python\\python36\\lib\\site-packages (from -r requirements.txt (line 45)) (5.3.1)\n",
      "Requirement already satisfied: nbformat==4.4.0 in c:\\python\\python36\\lib\\site-packages (from -r requirements.txt (line 46)) (4.4.0)\n",
      "Requirement already satisfied: notebook==5.6.0 in c:\\python\\python36\\lib\\site-packages (from -r requirements.txt (line 47)) (5.6.0)\n",
      "Requirement already satisfied: numpy==1.13.3 in c:\\python\\python36\\lib\\site-packages (from -r requirements.txt (line 48)) (1.13.3)\n",
      "Requirement already satisfied: pandas==0.21.0 in c:\\python\\python36\\lib\\site-packages (from -r requirements.txt (line 49)) (0.21.0)\n",
      "Requirement already satisfied: pandocfilters==1.4.2 in c:\\python\\python36\\lib\\site-packages (from -r requirements.txt (line 50)) (1.4.2)\n",
      "Requirement already satisfied: paramiko==2.4.1 in c:\\python\\python36\\lib\\site-packages (from -r requirements.txt (line 51)) (2.4.1)\n",
      "Requirement already satisfied: parsel==1.5.0 in c:\\python\\python36\\lib\\site-packages (from -r requirements.txt (line 52)) (1.5.0)\n",
      "Requirement already satisfied: parso==0.3.1 in c:\\python\\python36\\lib\\site-packages (from -r requirements.txt (line 53)) (0.3.1)\n",
      "Requirement already satisfied: pbr==4.0.2 in c:\\python\\python36\\lib\\site-packages (from -r requirements.txt (line 54)) (4.0.2)\n",
      "Requirement already satisfied: pefile==2017.11.5 in c:\\python\\python36\\lib\\site-packages (from -r requirements.txt (line 55)) (2017.11.5)\n",
      "Requirement already satisfied: pickleshare==0.7.4 in c:\\python\\python36\\lib\\site-packages (from -r requirements.txt (line 56)) (0.7.4)\n",
      "Requirement already satisfied: prometheus-client==0.3.1 in c:\\python\\python36\\lib\\site-packages (from -r requirements.txt (line 57)) (0.3.1)\n",
      "Requirement already satisfied: prompt-toolkit==1.0.15 in c:\\python\\python36\\lib\\site-packages (from -r requirements.txt (line 58)) (1.0.15)\n",
      "Requirement already satisfied: pyasn1==0.4.2 in c:\\python\\python36\\lib\\site-packages (from -r requirements.txt (line 59)) (0.4.2)\n",
      "Requirement already satisfied: pycparser==2.18 in c:\\python\\python36\\lib\\site-packages (from -r requirements.txt (line 60)) (2.18)\n",
      "Requirement already satisfied: Pygments==2.2.0 in c:\\python\\python36\\lib\\site-packages (from -r requirements.txt (line 61)) (2.2.0)\n",
      "Requirement already satisfied: PyHamcrest==1.9.0 in c:\\python\\python36\\lib\\site-packages (from -r requirements.txt (line 62)) (1.9.0)\n",
      "Requirement already satisfied: PyInstaller==3.3.1 in c:\\python\\python36\\lib\\site-packages (from -r requirements.txt (line 63)) (3.3.1)\n",
      "Requirement already satisfied: PyNaCl==1.2.1 in c:\\python\\python36\\lib\\site-packages (from -r requirements.txt (line 64)) (1.2.1)\n",
      "Requirement already satisfied: pyparsing==2.3.1 in c:\\python\\python36\\lib\\site-packages (from -r requirements.txt (line 65)) (2.3.1)\n",
      "Requirement already satisfied: pypiwin32==223 in c:\\python\\python36\\lib\\site-packages (from -r requirements.txt (line 66)) (223)\n",
      "Requirement already satisfied: python-dateutil==2.6.1 in c:\\python\\python36\\lib\\site-packages (from -r requirements.txt (line 67)) (2.6.1)\n",
      "Requirement already satisfied: pytz==2017.3 in c:\\python\\python36\\lib\\site-packages (from -r requirements.txt (line 68)) (2017.3)\n",
      "Requirement already satisfied: pywin32==223 in c:\\python\\python36\\lib\\site-packages (from -r requirements.txt (line 69)) (223)\n",
      "Requirement already satisfied: pywinpty==0.5.4 in c:\\python\\python36\\lib\\site-packages (from -r requirements.txt (line 70)) (0.5.4)\n",
      "Requirement already satisfied: pyzmq==17.1.2 in c:\\python\\python36\\lib\\site-packages (from -r requirements.txt (line 71)) (17.1.2)\n",
      "Requirement already satisfied: qtconsole==4.4.1 in c:\\python\\python36\\lib\\site-packages (from -r requirements.txt (line 72)) (4.4.1)\n",
      "Requirement already satisfied: scikit-learn==0.19.1 in c:\\python\\python36\\lib\\site-packages (from -r requirements.txt (line 73)) (0.19.1)\n",
      "Requirement already satisfied: scipy==1.2.0 in c:\\python\\python36\\lib\\site-packages (from -r requirements.txt (line 74)) (1.2.0)\n",
      "Requirement already satisfied: Send2Trash==1.5.0 in c:\\python\\python36\\lib\\site-packages (from -r requirements.txt (line 75)) (1.5.0)\n",
      "Requirement already satisfied: simplegeneric==0.8.1 in c:\\python\\python36\\lib\\site-packages (from -r requirements.txt (line 76)) (0.8.1)\n",
      "Requirement already satisfied: six==1.11.0 in c:\\python\\python36\\lib\\site-packages (from -r requirements.txt (line 77)) (1.11.0)\n",
      "Requirement already satisfied: stevedore==1.28.0 in c:\\python\\python36\\lib\\site-packages (from -r requirements.txt (line 78)) (1.28.0)\n",
      "Requirement already satisfied: terminado==0.8.1 in c:\\python\\python36\\lib\\site-packages (from -r requirements.txt (line 79)) (0.8.1)\n",
      "Requirement already satisfied: testpath==0.3.1 in c:\\python\\python36\\lib\\site-packages (from -r requirements.txt (line 80)) (0.3.1)\n",
      "Requirement already satisfied: tornado==5.1 in c:\\python\\python36\\lib\\site-packages (from -r requirements.txt (line 81)) (5.1)\n",
      "Requirement already satisfied: traitlets==4.3.2 in c:\\python\\python36\\lib\\site-packages (from -r requirements.txt (line 82)) (4.3.2)\n",
      "Requirement already satisfied: virtualenv==15.1.0 in c:\\python\\python36\\lib\\site-packages (from -r requirements.txt (line 83)) (15.1.0)\n",
      "Requirement already satisfied: virtualenv-clone==0.3.0 in c:\\python\\python36\\lib\\site-packages (from -r requirements.txt (line 84)) (0.3.0)\n",
      "Requirement already satisfied: virtualenvwrapper==4.8.2 in c:\\python\\python36\\lib\\site-packages (from -r requirements.txt (line 85)) (4.8.2)\n",
      "Requirement already satisfied: virtualenvwrapper-win==1.2.5 in c:\\python\\python36\\lib\\site-packages (from -r requirements.txt (line 86)) (1.2.5)\n",
      "Requirement already satisfied: w3lib==1.19.0 in c:\\python\\python36\\lib\\site-packages (from -r requirements.txt (line 87)) (1.19.0)\n",
      "Requirement already satisfied: wcwidth==0.1.7 in c:\\python\\python36\\lib\\site-packages (from -r requirements.txt (line 88)) (0.1.7)\n",
      "Requirement already satisfied: webencodings==0.5.1 in c:\\python\\python36\\lib\\site-packages (from -r requirements.txt (line 89)) (0.5.1)\n",
      "Requirement already satisfied: websockets==3.2 in c:\\python\\python36\\lib\\site-packages (from -r requirements.txt (line 90)) (3.2)\n",
      "Requirement already satisfied: widgetsnbextension==3.4.1 in c:\\python\\python36\\lib\\site-packages (from -r requirements.txt (line 91)) (3.4.1)\n",
      "Requirement already satisfied: zope.interface==4.5.0 in c:\\python\\python36\\lib\\site-packages (from -r requirements.txt (line 92)) (4.5.0)\n",
      "Requirement already satisfied: setuptools>=18.5 in c:\\python\\python36\\lib\\site-packages (from ipython==6.5.0->-r requirements.txt (line 29)) (28.8.0)\n"
     ]
    }
   ],
   "source": [
    "# install packages from file\n",
    "import sys\n",
    "!{sys.executable} -m pip install -r requirements.txt"
   ]
  }
 ],
 "metadata": {
  "kernelspec": {
   "display_name": "Python 3",
   "language": "python",
   "name": "python3"
  },
  "language_info": {
   "codemirror_mode": {
    "name": "ipython",
    "version": 3
   },
   "file_extension": ".py",
   "mimetype": "text/x-python",
   "name": "python",
   "nbconvert_exporter": "python",
   "pygments_lexer": "ipython3",
   "version": "3.6.3"
  }
 },
 "nbformat": 4,
 "nbformat_minor": 2
}
